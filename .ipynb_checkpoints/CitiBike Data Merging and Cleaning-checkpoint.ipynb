{
 "cells": [
  {
   "cell_type": "code",
   "execution_count": null,
   "metadata": {},
   "outputs": [],
   "source": [
    "import pandas as pd\n",
    "import numpy as np"
   ]
  },
  {
   "cell_type": "code",
   "execution_count": null,
   "metadata": {},
   "outputs": [],
   "source": [
    "# read in the csvs one by one\n",
    "citi_bike_2020 = pd.read_csv('raw_CSVs/202009-citibike-tripdata.csv')\n",
    "citi_bike_2020.shape"
   ]
  },
  {
   "cell_type": "code",
   "execution_count": null,
   "metadata": {},
   "outputs": [],
   "source": [
    "len(citi_bike_2020['start station id'].unique())"
   ]
  },
  {
   "cell_type": "code",
   "execution_count": null,
   "metadata": {},
   "outputs": [],
   "source": [
    "# test 2019 data for compatibility with 2020\n",
    "citi_bike_2019 = pd.read_csv('raw_CSVs/201909-citibike-tripdata.csv')\n",
    "len(citi_bike_2019['start station id'].unique())"
   ]
  },
  {
   "cell_type": "code",
   "execution_count": null,
   "metadata": {},
   "outputs": [],
   "source": [
    "# test 2018 data for compatibility with 2020\n",
    "citi_bike_2018 = pd.read_csv('raw_CSVs/201809-citibike-tripdata.csv')\n",
    "len(citi_bike_2018['start station id'].unique())"
   ]
  },
  {
   "cell_type": "code",
   "execution_count": null,
   "metadata": {},
   "outputs": [],
   "source": [
    "# check what data types are present\n",
    "citi_bike_2020.info()"
   ]
  },
  {
   "cell_type": "code",
   "execution_count": null,
   "metadata": {},
   "outputs": [],
   "source": [
    "citi_bike_2019.info()"
   ]
  },
  {
   "cell_type": "code",
   "execution_count": null,
   "metadata": {},
   "outputs": [],
   "source": [
    "citi_bike_2018.info()"
   ]
  },
  {
   "cell_type": "code",
   "execution_count": null,
   "metadata": {},
   "outputs": [],
   "source": [
    "test_df = pd.concat([citi_bike_2018, citi_bike_2019, citi_bike_2020])"
   ]
  },
  {
   "cell_type": "code",
   "execution_count": null,
   "metadata": {},
   "outputs": [],
   "source": [
    "# convert starttime and stopptime to date time objects\n",
    "test_df['starttime'] = pd.to_datetime(test_df['starttime'])\n",
    "test_df['stoptime'] = pd.to_datetime(test_df['stoptime'])"
   ]
  },
  {
   "cell_type": "code",
   "execution_count": null,
   "metadata": {},
   "outputs": [],
   "source": [
    "# verify the data types have been updated\n",
    "test_df.info()"
   ]
  },
  {
   "cell_type": "code",
   "execution_count": null,
   "metadata": {},
   "outputs": [],
   "source": [
    "# verify the formatting hasn't changed\n",
    "test_df.head()"
   ]
  },
  {
   "cell_type": "code",
   "execution_count": null,
   "metadata": {},
   "outputs": [],
   "source": [
    "# create columns for female, male, and other. These will be used when the dataframe is grouped.\n",
    "test_df['unknown_gender'] = np.where(test_df['gender']==0, 1, 0)\n",
    "test_df['male'] = np.where(test_df['gender']==1, 1, 0)\n",
    "test_df['female'] = np.where(test_df['gender']==2, 1, 0)"
   ]
  },
  {
   "cell_type": "code",
   "execution_count": null,
   "metadata": {},
   "outputs": [],
   "source": [
    "#create columns for each usertype: customer and subscriber. These will be used when the dataframe is grouped.\n",
    "test_df['Customer'] = np.where(test_df['usertype']=='Customer', 1, 0)\n",
    "test_df['Subscriber'] = np.where(test_df['usertype']=='Subscriber', 1, 0)"
   ]
  },
  {
   "cell_type": "code",
   "execution_count": null,
   "metadata": {},
   "outputs": [],
   "source": [
    "# create new columns with the month and the year of each trip\n",
    "test_df['start_month'] = test_df['starttime'].dt.month\n",
    "test_df['start_year'] = test_df['starttime'].dt.year"
   ]
  },
  {
   "cell_type": "code",
   "execution_count": null,
   "metadata": {},
   "outputs": [],
   "source": [
    "test_df.head()"
   ]
  },
  {
   "cell_type": "code",
   "execution_count": null,
   "metadata": {},
   "outputs": [],
   "source": [
    "merged_test = test_df.groupby(['start_year', 'start_month', 'start station id', 'start station name', 'start station latitude', 'start station longitude', 'end station id', 'end station name', 'end station latitude', 'end station longitude']).agg({'bikeid': 'count', 'unknown_gender': 'sum', 'male': 'sum', 'female': 'sum', 'Customer': 'sum', 'Subscriber': 'sum', 'tripduration': ['mean', 'min', 'max']})\n",
    "merged_test = merged_test.reset_index()\n",
    "merged_test.head()"
   ]
  },
  {
   "cell_type": "code",
   "execution_count": null,
   "metadata": {},
   "outputs": [],
   "source": [
    "merged_test.loc[(merged_test[\"start station name\"] == \"W 52 St & 11 Ave\")]"
   ]
  },
  {
   "cell_type": "code",
   "execution_count": null,
   "metadata": {},
   "outputs": [],
   "source": [
    "merged_test.shape"
   ]
  },
  {
   "cell_type": "code",
   "execution_count": null,
   "metadata": {},
   "outputs": [],
   "source": [
    "merged_test.to_csv('test_data.csv', encoding='utf-8', index=False)"
   ]
  }
 ],
 "metadata": {
  "kernelspec": {
   "display_name": "Python 3",
   "language": "python",
   "name": "python3"
  },
  "language_info": {
   "codemirror_mode": {
    "name": "ipython",
    "version": 3
   },
   "file_extension": ".py",
   "mimetype": "text/x-python",
   "name": "python",
   "nbconvert_exporter": "python",
   "pygments_lexer": "ipython3",
   "version": "3.6.10"
  }
 },
 "nbformat": 4,
 "nbformat_minor": 4
}
